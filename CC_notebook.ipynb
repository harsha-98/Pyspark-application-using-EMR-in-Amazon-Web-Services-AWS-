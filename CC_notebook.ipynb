{
 "cells": [
  {
   "cell_type": "code",
   "execution_count": 1,
   "id": "c6e0b30a",
   "metadata": {},
   "outputs": [
    {
     "data": {
      "application/vnd.jupyter.widget-view+json": {
       "model_id": "924db0933b0b4efc875d906021f62637",
       "version_major": 2,
       "version_minor": 0
      },
      "text/plain": [
       "VBox()"
      ]
     },
     "metadata": {},
     "output_type": "display_data"
    },
    {
     "name": "stdout",
     "output_type": "stream",
     "text": [
      "Starting Spark application\n"
     ]
    },
    {
     "data": {
      "text/html": [
       "<table>\n",
       "<tr><th>ID</th><th>YARN Application ID</th><th>Kind</th><th>State</th><th>Spark UI</th><th>Driver log</th><th>User</th><th>Current session?</th></tr><tr><td>4</td><td>application_1667931792850_0005</td><td>pyspark</td><td>idle</td><td></td><td></td><td>None</td><td>✔</td></tr></table>"
      ],
      "text/plain": [
       "<IPython.core.display.HTML object>"
      ]
     },
     "metadata": {},
     "output_type": "display_data"
    },
    {
     "data": {
      "application/vnd.jupyter.widget-view+json": {
       "model_id": "",
       "version_major": 2,
       "version_minor": 0
      },
      "text/plain": [
       "FloatProgress(value=0.0, bar_style='info', description='Progress:', layout=Layout(height='25px', width='50%'),…"
      ]
     },
     "metadata": {},
     "output_type": "display_data"
    },
    {
     "name": "stdout",
     "output_type": "stream",
     "text": [
      "SparkSession available as 'spark'.\n"
     ]
    },
    {
     "data": {
      "application/vnd.jupyter.widget-view+json": {
       "model_id": "",
       "version_major": 2,
       "version_minor": 0
      },
      "text/plain": [
       "FloatProgress(value=0.0, bar_style='info', description='Progress:', layout=Layout(height='25px', width='50%'),…"
      ]
     },
     "metadata": {},
     "output_type": "display_data"
    }
   ],
   "source": [
    "from pyspark.sql import SparkSession\n",
    "from pyspark.sql.functions import *"
   ]
  },
  {
   "cell_type": "code",
   "execution_count": 4,
   "id": "f8b9fa0b",
   "metadata": {},
   "outputs": [
    {
     "data": {
      "application/vnd.jupyter.widget-view+json": {
       "model_id": "d730562dc6ea4a09a2fb4834c5ecb273",
       "version_major": 2,
       "version_minor": 0
      },
      "text/plain": [
       "VBox()"
      ]
     },
     "metadata": {},
     "output_type": "display_data"
    },
    {
     "data": {
      "application/vnd.jupyter.widget-view+json": {
       "model_id": "",
       "version_major": 2,
       "version_minor": 0
      },
      "text/plain": [
       "FloatProgress(value=0.0, bar_style='info', description='Progress:', layout=Layout(height='25px', width='50%'),…"
      ]
     },
     "metadata": {},
     "output_type": "display_data"
    }
   ],
   "source": [
    "spark = SparkSession.builder \\\n",
    "            .appName('HarshikaApp.com') \\\n",
    "            .getOrCreate()"
   ]
  },
  {
   "cell_type": "code",
   "execution_count": 5,
   "id": "3a89740e",
   "metadata": {},
   "outputs": [
    {
     "data": {
      "application/vnd.jupyter.widget-view+json": {
       "model_id": "ca5eefe21683468ebea9e7c0db1044e2",
       "version_major": 2,
       "version_minor": 0
      },
      "text/plain": [
       "VBox()"
      ]
     },
     "metadata": {},
     "output_type": "display_data"
    },
    {
     "data": {
      "application/vnd.jupyter.widget-view+json": {
       "model_id": "",
       "version_major": 2,
       "version_minor": 0
      },
      "text/plain": [
       "FloatProgress(value=0.0, bar_style='info', description='Progress:', layout=Layout(height='25px', width='50%'),…"
      ]
     },
     "metadata": {},
     "output_type": "display_data"
    },
    {
     "name": "stdout",
     "output_type": "stream",
     "text": [
      "Collecting mysql-connector-python\n",
      "  Using cached https://files.pythonhosted.org/packages/6e/c7/23db01e37d6dbf68c3b3baa151694b5b33b92976a473e7ae59fb080198c1/mysql_connector_python-8.0.31-cp37-cp37m-manylinux1_x86_64.whl\n",
      "Collecting protobuf<=3.20.1,>=3.11.0 (from mysql-connector-python)\n",
      "  Using cached https://files.pythonhosted.org/packages/21/9b/258771d72fd2cf27eed3cfea1fc957a12666ccde394b294ac563fca23f2d/protobuf-3.20.1-cp37-cp37m-manylinux_2_5_x86_64.manylinux1_x86_64.whl\n",
      "Installing collected packages: protobuf, mysql-connector-python\n",
      "Successfully installed mysql-connector-python-8.0.31 protobuf-3.20.1\n",
      "\n",
      "Collecting pymysql\n",
      "  Using cached https://files.pythonhosted.org/packages/4f/52/a115fe175028b058df353c5a3d5290b71514a83f67078a6482cff24d6137/PyMySQL-1.0.2-py3-none-any.whl\n",
      "Installing collected packages: pymysql\n",
      "Successfully installed pymysql-1.0.2\n",
      "\n",
      "Collecting requests\n",
      "  Using cached https://files.pythonhosted.org/packages/ca/91/6d9b8ccacd0412c08820f72cebaa4f0c0441b5cda699c90f618b6f8a1b42/requests-2.28.1-py3-none-any.whl\n",
      "Collecting charset-normalizer<3,>=2 (from requests)\n",
      "  Using cached https://files.pythonhosted.org/packages/db/51/a507c856293ab05cdc1db77ff4bc1268ddd39f29e7dc4919aa497f0adbec/charset_normalizer-2.1.1-py3-none-any.whl\n",
      "Collecting idna<4,>=2.5 (from requests)\n",
      "  Using cached https://files.pythonhosted.org/packages/fc/34/3030de6f1370931b9dbb4dad48f6ab1015ab1d32447850b9fc94e60097be/idna-3.4-py3-none-any.whl\n",
      "Collecting urllib3<1.27,>=1.21.1 (from requests)\n",
      "  Using cached https://files.pythonhosted.org/packages/6f/de/5be2e3eed8426f871b170663333a0f627fc2924cc386cd41be065e7ea870/urllib3-1.26.12-py2.py3-none-any.whl\n",
      "Collecting certifi>=2017.4.17 (from requests)\n",
      "  Using cached https://files.pythonhosted.org/packages/1d/38/fa96a426e0c0e68aabc68e896584b83ad1eec779265a028e156ce509630e/certifi-2022.9.24-py3-none-any.whl\n",
      "Installing collected packages: charset-normalizer, idna, urllib3, certifi, requests\n",
      "Successfully installed certifi-2022.9.24 charset-normalizer-2.1.1 idna-3.4 requests-2.28.1 urllib3-1.26.12\n",
      "\n",
      "You are using pip version 9.0.1, however version 22.3.1 is available.\n",
      "You should consider upgrading via the 'pip install --upgrade pip' command.\n",
      "\n",
      "You are using pip version 9.0.1, however version 22.3.1 is available.\n",
      "You should consider upgrading via the 'pip install --upgrade pip' command.\n",
      "\n",
      "You are using pip version 9.0.1, however version 22.3.1 is available.\n",
      "You should consider upgrading via the 'pip install --upgrade pip' command."
     ]
    }
   ],
   "source": [
    "sc.install_pypi_package(\"mysql-connector-python\")\n",
    "sc.install_pypi_package(\"pymysql\")\n",
    "sc.install_pypi_package(\"requests\")"
   ]
  },
  {
   "cell_type": "code",
   "execution_count": 17,
   "id": "0cd1f9ef",
   "metadata": {},
   "outputs": [
    {
     "data": {
      "application/vnd.jupyter.widget-view+json": {
       "model_id": "c3594372148948aab63fc3d4b199ea63",
       "version_major": 2,
       "version_minor": 0
      },
      "text/plain": [
       "VBox()"
      ]
     },
     "metadata": {},
     "output_type": "display_data"
    },
    {
     "data": {
      "application/vnd.jupyter.widget-view+json": {
       "model_id": "",
       "version_major": 2,
       "version_minor": 0
      },
      "text/plain": [
       "FloatProgress(value=0.0, bar_style='info', description='Progress:', layout=Layout(height='25px', width='50%'),…"
      ]
     },
     "metadata": {},
     "output_type": "display_data"
    },
    {
     "name": "stdout",
     "output_type": "stream",
     "text": [
      "'18.191.161.71'"
     ]
    }
   ],
   "source": [
    "from requests import get\n",
    "get('https://api.ipify.org').text"
   ]
  },
  {
   "cell_type": "code",
   "execution_count": 18,
   "id": "4592139e",
   "metadata": {},
   "outputs": [
    {
     "data": {
      "application/vnd.jupyter.widget-view+json": {
       "model_id": "ffb70ddd36e643778de61f0795911a8d",
       "version_major": 2,
       "version_minor": 0
      },
      "text/plain": [
       "VBox()"
      ]
     },
     "metadata": {},
     "output_type": "display_data"
    },
    {
     "data": {
      "application/vnd.jupyter.widget-view+json": {
       "model_id": "",
       "version_major": 2,
       "version_minor": 0
      },
      "text/plain": [
       "FloatProgress(value=0.0, bar_style='info', description='Progress:', layout=Layout(height='25px', width='50%'),…"
      ]
     },
     "metadata": {},
     "output_type": "display_data"
    }
   ],
   "source": [
    "import mysql.connector\n",
    "connection = mysql.connector.connect(user='root', password='check', host='34.174.109.193',database='dbassign3')"
   ]
  },
  {
   "cell_type": "code",
   "execution_count": 19,
   "id": "c4751035",
   "metadata": {},
   "outputs": [
    {
     "data": {
      "application/vnd.jupyter.widget-view+json": {
       "model_id": "e25913674e4146398749058fb7b47f67",
       "version_major": 2,
       "version_minor": 0
      },
      "text/plain": [
       "VBox()"
      ]
     },
     "metadata": {},
     "output_type": "display_data"
    },
    {
     "data": {
      "application/vnd.jupyter.widget-view+json": {
       "model_id": "",
       "version_major": 2,
       "version_minor": 0
      },
      "text/plain": [
       "FloatProgress(value=0.0, bar_style='info', description='Progress:', layout=Layout(height='25px', width='50%'),…"
      ]
     },
     "metadata": {},
     "output_type": "display_data"
    }
   ],
   "source": [
    "cursor = connection.cursor()"
   ]
  },
  {
   "cell_type": "code",
   "execution_count": 29,
   "id": "9b10672e",
   "metadata": {},
   "outputs": [
    {
     "data": {
      "application/vnd.jupyter.widget-view+json": {
       "model_id": "dbfbac1bb29a4805ace5a136f987b5b9",
       "version_major": 2,
       "version_minor": 0
      },
      "text/plain": [
       "VBox()"
      ]
     },
     "metadata": {},
     "output_type": "display_data"
    },
    {
     "data": {
      "application/vnd.jupyter.widget-view+json": {
       "model_id": "",
       "version_major": 2,
       "version_minor": 0
      },
      "text/plain": [
       "FloatProgress(value=0.0, bar_style='info', description='Progress:', layout=Layout(height='25px', width='50%'),…"
      ]
     },
     "metadata": {},
     "output_type": "display_data"
    },
    {
     "name": "stdout",
     "output_type": "stream",
     "text": [
      "+---+--------------------+--------+---------------+--------------------+--------+-------------------+--------------------+-----------+-------+\n",
      "| id|                 url|owner_id|           name|         description|language|         created_at|          ext_ref_id|forked_from|deleted|\n",
      "+---+--------------------+--------+---------------+--------------------+--------+-------------------+--------------------+-----------+-------+\n",
      "|  1|https://api.githu...|       1|           akka|        Akka Project|   Scala|2009-02-16 11:51:54|52343e2ebd3543bb7...|       null|      0|\n",
      "|  2|https://api.githu...|       2|       devtools|Tools to make an ...|       R|2010-05-03 02:08:49|52343eecbd35436dd...|       null|      0|\n",
      "|  3|https://api.githu...|       3|ProjectTemplate|A template utilit...|       R|2010-08-24 15:22:36|52343eecbd35436de...|       null|      0|\n",
      "|  4|https://api.githu...|       6|  stat-cookbook|The probability a...|       R|2012-04-23 18:24:37|52343eecbd35436de...|       null|      0|\n",
      "|  5|https://api.githu...|       8|     hiphop-php|Virtual Machine, ...|     C++|2010-01-02 00:17:06|52343eecbd35436de...|       null|      0|\n",
      "+---+--------------------+--------+---------------+--------------------+--------+-------------------+--------------------+-----------+-------+\n",
      "only showing top 5 rows"
     ]
    }
   ],
   "source": [
    "query1 = (\"Select * from projects\")\n",
    "cursor.execute(query1)\n",
    "fetch = cursor.fetchall()\n",
    "\n",
    "\n",
    "df1_columns = ['id','url','owner_id','name','description','language','created_at','ext_ref_id','forked_from','deleted']\n",
    "df_projects = spark.createDataFrame(fetch,df1_columns)\n",
    "df_projects.show()"
   ]
  },
  {
   "cell_type": "code",
   "execution_count": 34,
   "id": "7ddd8c03",
   "metadata": {},
   "outputs": [
    {
     "data": {
      "application/vnd.jupyter.widget-view+json": {
       "model_id": "75c9a086d7d74f11a6ff2258dae4ebdc",
       "version_major": 2,
       "version_minor": 0
      },
      "text/plain": [
       "VBox()"
      ]
     },
     "metadata": {},
     "output_type": "display_data"
    },
    {
     "data": {
      "application/vnd.jupyter.widget-view+json": {
       "model_id": "",
       "version_major": 2,
       "version_minor": 0
      },
      "text/plain": [
       "FloatProgress(value=0.0, bar_style='info', description='Progress:', layout=Layout(height='25px', width='50%'),…"
      ]
     },
     "metadata": {},
     "output_type": "display_data"
    },
    {
     "name": "stdout",
     "output_type": "stream",
     "text": [
      "+---+--------------------+---------+------------+----------+-------------------+--------------------+\n",
      "| id|                 sha|author_id|committer_id|project_id|         created_at|          ext_ref_id|\n",
      "+---+--------------------+---------+------------+----------+-------------------+--------------------+\n",
      "|  1|8047099afdfc5c973...|       17|          17|        10|2012-04-08 00:29:18|52343eefbd35436e9...|\n",
      "|  2|e9c4795109cc83155...|       18|          18|        10|2011-12-29 20:12:27|52343ef0bd35436e9...|\n",
      "|  3|d422788143f3dab35...|       18|          18|        10|2011-12-29 20:11:10|52343ef0bd35436e9...|\n",
      "|  4|257e121a392cdaf8d...|       17|          17|        10|2011-12-29 19:54:15|52343ef0bd35436e9...|\n",
      "|  5|f73e20da392a14d5c...|       18|          18|        10|2011-12-29 19:29:49|52343ef1bd35436e9...|\n",
      "|  6|279d6c6f8df8baa9d...|       17|          17|        10|2011-12-29 16:43:34|52343ef1bd35436e9...|\n",
      "|  7|6663c5c9bc9e84a58...|       19|          19|        10|2011-12-17 23:52:35|52343efcbd35436e9...|\n",
      "|  8|d5f751654da8729ca...|       17|          17|        10|2011-12-29 16:42:30|52343ef2bd35436e9...|\n",
      "|  9|a95464d419ab736e0...|       20|          20|        10|2011-12-23 15:47:57|52343ef4bd35436e9...|\n",
      "| 10|232432d352fe27789...|       17|          17|        10|2011-12-26 13:15:39|52343ef6bd35436e9...|\n",
      "| 11|015f1a8f3e97025af...|       20|          20|        10|2011-12-21 20:07:35|52343ef2bd35436e9...|\n",
      "| 12|a725daf17e598400e...|       20|          20|        10|2011-12-21 19:48:50|52343ef3bd35436e9...|\n",
      "| 13|6101cec5be5f5ef6b...|       20|          20|        10|2011-12-21 19:36:58|52343ef3bd35436e9...|\n",
      "| 14|0b48f6f24a9e8e630...|       20|          20|        10|2011-12-23 15:45:56|52343ef4bd35436e9...|\n",
      "| 15|b8aaa603112cbb002...|       20|          20|        10|2011-12-23 15:43:50|52343ef4bd35436e9...|\n",
      "| 16|3946e7bdd41c63131...|       20|          20|        10|2011-12-23 15:42:57|52343ef5bd35436e9...|\n",
      "| 17|7bf37746644ed8a3f...|       20|          20|        10|2011-12-23 15:36:45|52343ef5bd35436e9...|\n",
      "| 18|6ce9c717c30c9640f...|       20|          20|        10|2011-12-23 15:34:53|52343ef6bd35436e9...|\n",
      "| 19|2fb684dbde7f284fb...|       17|          17|        10|2011-12-25 15:47:27|52343ef7bd35436e9...|\n",
      "| 20|72fd4c6fc20d7fe8a...|       20|          20|        10|2011-12-21 21:52:32|52343ef7bd35436e9...|\n",
      "+---+--------------------+---------+------------+----------+-------------------+--------------------+\n",
      "only showing top 20 rows"
     ]
    }
   ],
   "source": [
    "query3 = (\"Select * from commits\")\n",
    "cursor.execute(query3)\n",
    "fetch = cursor.fetchall()\n",
    "\n",
    "df3_columns =['id','sha','author_id','committer_id','project_id','created_at','ext_ref_id']\n",
    "df_commits=spark.createDataFrame(fetch,df3_columns)\n",
    "df_commits.show()"
   ]
  },
  {
   "cell_type": "code",
   "execution_count": 35,
   "id": "4ceca402",
   "metadata": {},
   "outputs": [
    {
     "data": {
      "application/vnd.jupyter.widget-view+json": {
       "model_id": "5933af8c041448cd8c909d37ab8afa3c",
       "version_major": 2,
       "version_minor": 0
      },
      "text/plain": [
       "VBox()"
      ]
     },
     "metadata": {},
     "output_type": "display_data"
    },
    {
     "data": {
      "application/vnd.jupyter.widget-view+json": {
       "model_id": "",
       "version_major": 2,
       "version_minor": 0
      },
      "text/plain": [
       "FloatProgress(value=0.0, bar_style='info', description='Progress:', layout=Layout(height='25px', width='50%'),…"
      ]
     },
     "metadata": {},
     "output_type": "display_data"
    },
    {
     "name": "stdout",
     "output_type": "stream",
     "text": [
      "+-----+---------+-------+--------------------+----+--------+----------+--------------------+-------------------+\n",
      "|   id|commit_id|user_id|                body|line|position|comment_id|          ext_ref_id|         created_at|\n",
      "+-----+---------+-------+--------------------+----+--------+----------+--------------------+-------------------+\n",
      "|28479|    53162|     16|I posted this as ...|null|    null|    390328|524dd257bd3543ae2...|2011-05-19 08:37:02|\n",
      "|28480|    53162|     16|In addition this ...|null|    null|    390339|524dd258bd3543ae2...|2011-05-19 08:45:11|\n",
      "|28481|    53162|     16|Pitcrawler, take ...|null|    null|    390354|524dd258bd3543ae2...|2011-05-19 08:58:56|\n",
      "|28482|    53162|     16|Well my fix was a...|null|    null|    390464|524dd258bd3543ae2...|2011-05-19 10:49:00|\n",
      "|28483|    53162|     16|You made fix for ...|null|    null|    390506|524dd258bd3543ae2...|2011-05-19 11:16:08|\n",
      "|28484|    53162|     16|Deep Wounds damag...|null|    null|    392131|524dd258bd3543ae2...|2011-05-20 09:33:45|\n",
      "|28485|    53162|     16|As it seems tobma...|null|    null|    392149|524dd258bd3543ae2...|2011-05-20 09:57:20|\n",
      "|28486|    53162|     16|Pitcrawler, can y...|null|    null|    392169|524dd258bd3543ae2...|2011-05-20 10:28:23|\n",
      "|28487|    53162|     16|When i get this w...|null|    null|    392355|524dd258bd3543ae2...|2011-05-20 12:50:13|\n",
      "|28488|    53162|     16|Okey i see no dif...|null|    null|    393836|524dd258bd3543ae2...|2011-05-22 09:02:25|\n",
      "|61012|   393547|  22310|:+1:\n",
      "\n",
      "Setting `in...|null|    null|   1848268|52665f10bd35433e3...|2012-09-13 07:56:13|\n",
      "|61013|   393547|  22053|@steveklabnik :he...|null|    null|   1890947|52665f10bd35433e5...|2012-09-22 11:29:38|\n",
      "|61014|   374759| 204466|@xbeta I think th...|null|    null|   3657238|52665f10bd35433e7...|2013-07-17 16:20:24|\n",
      "|61015|   397203|  27885|I just hit the ke...|   5|       5|   3932024|52665f10bd35433ee...|2013-08-23 13:59:26|\n",
      "|61016|   374759| 210617|I believe for tho...|null|    null|   3649932|52665f10bd35433e7...|2013-07-16 22:23:47|\n",
      "|61017|   397203| 114102|             wololo!|   5|       5|   3930099|52665f10bd35433ee...|2013-08-23 09:12:43|\n",
      "|61018|   268754|  27885|I think it's all ...|null|    null|   4062274|52665f10bd35433e8...|2013-09-11 00:18:48|\n",
      "|61019|   268754|  27885|              Fixed.|null|    null|   4071803|52665f10bd35433e9...|2013-09-11 21:06:03|\n",
      "|61020|   393547|  22053|I'd revert this +...|null|    null|   1889488|52665f10bd35433e4...|2012-09-21 18:28:59|\n",
      "|61021|   393547|  27597|@spastorino done ...|null|    null|   1890415|52665f10bd35433e4...|2012-09-22 01:32:00|\n",
      "+-----+---------+-------+--------------------+----+--------+----------+--------------------+-------------------+\n",
      "only showing top 20 rows"
     ]
    }
   ],
   "source": [
    "query5 = (\"Select * from commit_comments\")\n",
    "cursor.execute(query5)\n",
    "\n",
    "fetch = cursor.fetchall()\n",
    "\n",
    "df5_columns=['id','commit_id','user_id','body','line','position','comment_id','ext_ref_id','created_at']\n",
    "df_commit_comments=spark.createDataFrame(fetch,df5_columns)\n",
    "df_commit_comments.show()"
   ]
  },
  {
   "cell_type": "code",
   "execution_count": 36,
   "id": "60ff6de8",
   "metadata": {},
   "outputs": [
    {
     "data": {
      "application/vnd.jupyter.widget-view+json": {
       "model_id": "ccd8eb15638c4097a643ac0418246a1a",
       "version_major": 2,
       "version_minor": 0
      },
      "text/plain": [
       "VBox()"
      ]
     },
     "metadata": {},
     "output_type": "display_data"
    },
    {
     "data": {
      "application/vnd.jupyter.widget-view+json": {
       "model_id": "",
       "version_major": 2,
       "version_minor": 0
      },
      "text/plain": [
       "FloatProgress(value=0.0, bar_style='info', description='Progress:', layout=Layout(height='25px', width='50%'),…"
      ]
     },
     "metadata": {},
     "output_type": "display_data"
    },
    {
     "name": "stdout",
     "output_type": "stream",
     "text": [
      "+-----+--------------------+--------+-----+--------------------+--------+-------------------+--------------------+-----------+-------+\n",
      "|   id|                 url|owner_id| name|         description|language|         created_at|          ext_ref_id|forked_from|deleted|\n",
      "+-----+--------------------+--------+-----+--------------------+--------+-------------------+--------------------+-----------+-------+\n",
      "|16402|https://api.githu...|   57224|storm|Distributed and f...|    Java|2011-09-17 05:55:13|5235286fbd354372f...|       null|      0|\n",
      "|16403|https://api.githu...|   57454|storm|Distributed and f...|    Java|2011-09-19 14:00:18|52352fecbd354372f...|      16402|      0|\n",
      "|16404|https://api.githu...|     853|storm|Distributed and f...|    Java|2011-09-19 14:06:38|52352fedbd354372f...|      16402|      0|\n",
      "|16405|https://api.githu...|   57455|storm|Distributed and f...|    Java|2011-09-19 14:06:57|52352feebd354372f...|      16402|      0|\n",
      "|16406|https://api.githu...|    7372|storm|Distributed and f...|    Java|2011-09-19 14:34:08|52352feebd354372f...|      16402|      0|\n",
      "|16407|https://api.githu...|   57457|storm|Distributed and f...|    Java|2011-09-19 14:36:20|52352fefbd354372f...|      16402|      0|\n",
      "|16408|https://api.githu...|   48913|storm|Distributed and f...|    Java|2011-09-19 15:22:20|52352ff0bd354372f...|      16402|      0|\n",
      "|16409|https://api.githu...|   54385|storm|Distributed and f...|    Java|2011-09-19 15:34:14|52352ff0bd354372f...|      16402|      0|\n",
      "|16410|https://api.githu...|   57458|storm|Distributed and f...|    Java|2011-09-19 16:08:27|52352ff6bd354372f...|      16402|      0|\n",
      "|16411|https://api.githu...|    1369|storm|Distributed and f...|    Java|2011-09-19 17:22:30|52352ff7bd354372f...|      16402|      0|\n",
      "|16412|https://api.githu...|   57460|storm|Distributed and f...|    Java|2011-09-19 17:31:25|52352ff8bd354372f...|      16402|      0|\n",
      "|16413|https://api.githu...|   57461|storm|Distributed and f...|    Java|2011-09-19 18:00:55|52352ff9bd354372f...|      16402|      0|\n",
      "|16414|https://api.githu...|   43870|storm|Distributed and f...|    Java|2011-09-19 18:44:16|52352ffabd354372f...|      16402|      0|\n",
      "|16415|https://api.githu...|   57462|storm|Distributed and f...|    Java|2011-09-19 18:49:36|52352ffbbd354372f...|      16402|      0|\n",
      "|16416|https://api.githu...|   16664|storm|Distributed and f...|    Java|2011-09-19 19:03:28|52352ffbbd354372f...|      16402|      0|\n",
      "|16417|https://api.githu...|   57463|storm|Distributed and f...|    Java|2011-09-19 20:35:48|52353001bd354372f...|      16402|      0|\n",
      "|16418|https://api.githu...|   57464|storm|Distributed and f...|    Java|2011-09-19 22:11:19|52353002bd354372f...|      16402|      0|\n",
      "|16419|https://api.githu...|    1516|storm|Distributed and f...|    Java|2011-09-19 23:10:33|52353003bd354372f...|      16402|      0|\n",
      "|16420|https://api.githu...|     770|storm|Distributed and f...|    Java|2011-09-19 23:20:10|52353003bd354372f...|      16402|      0|\n",
      "|16421|https://api.githu...|   57465|storm|Distributed and f...|    Java|2011-09-19 23:38:10|52353004bd354372f...|      16402|      0|\n",
      "+-----+--------------------+--------+-----+--------------------+--------+-------------------+--------------------+-----------+-------+\n",
      "only showing top 20 rows"
     ]
    }
   ],
   "source": [
    "#Question:2\n",
    "Java = df_projects.where(df_projects.language=='Java')\n",
    "Java.show()"
   ]
  },
  {
   "cell_type": "code",
   "execution_count": 49,
   "id": "351c1b69",
   "metadata": {},
   "outputs": [
    {
     "data": {
      "application/vnd.jupyter.widget-view+json": {
       "model_id": "859248fffb834dbb8084f9a9dae8e9cf",
       "version_major": 2,
       "version_minor": 0
      },
      "text/plain": [
       "VBox()"
      ]
     },
     "metadata": {},
     "output_type": "display_data"
    },
    {
     "data": {
      "application/vnd.jupyter.widget-view+json": {
       "model_id": "",
       "version_major": 2,
       "version_minor": 0
      },
      "text/plain": [
       "FloatProgress(value=0.0, bar_style='info', description='Progress:', layout=Layout(height='25px', width='50%'),…"
      ]
     },
     "metadata": {},
     "output_type": "display_data"
    },
    {
     "name": "stdout",
     "output_type": "stream",
     "text": [
      "+-----+\n",
      "|   _1|\n",
      "+-----+\n",
      "|60658|\n",
      "+-----+"
     ]
    }
   ],
   "source": [
    "# query6 = (\"Select * from repo_collaborators\")\n",
    "# cursor.execute(query5)\n",
    "\n",
    "# fetch = cursor.fetchall()\n",
    "df_commit_comments.createOrReplaceTempView(\"commit_comments\")\n",
    "df_commits.createOrReplaceTempView(\"commits\")\n",
    "query4 = (\"\")\n",
    "cursor.execute(query4)\n",
    "fetch = cursor.fetchall()\n",
    "df4 = spark.createDataFrame(fetch)\n",
    "df4.show()"
   ]
  },
  {
   "cell_type": "code",
   "execution_count": null,
   "id": "80487472",
   "metadata": {},
   "outputs": [],
   "source": []
  },
  {
   "cell_type": "code",
   "execution_count": null,
   "id": "65e5d706",
   "metadata": {},
   "outputs": [],
   "source": [
    "commits.createOrReplaceTempView(\"commits\")\n",
    "\n",
    "commit_query =\"select * from commits\"\n",
    "commit_df = spark.sql(commit_query)\n",
    "commit_df.show(5)"
   ]
  },
  {
   "cell_type": "code",
   "execution_count": null,
   "id": "0c73ac58",
   "metadata": {},
   "outputs": [],
   "source": []
  }
 ],
 "metadata": {
  "kernelspec": {
   "display_name": "PySpark",
   "language": "python",
   "name": "pysparkkernel"
  },
  "language_info": {
   "codemirror_mode": {
    "name": "python",
    "version": 3
   },
   "file_extension": ".py",
   "mimetype": "text/x-python",
   "name": "pyspark",
   "pygments_lexer": "python3"
  }
 },
 "nbformat": 4,
 "nbformat_minor": 5
}
